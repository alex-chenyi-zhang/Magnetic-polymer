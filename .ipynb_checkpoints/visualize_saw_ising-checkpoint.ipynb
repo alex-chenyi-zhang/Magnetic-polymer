{
 "cells": [
  {
   "cell_type": "code",
   "execution_count": 1,
   "id": "recent-avenue",
   "metadata": {},
   "outputs": [],
   "source": [
    "import numpy as np"
   ]
  },
  {
   "cell_type": "code",
   "execution_count": 2,
   "id": "casual-mouth",
   "metadata": {},
   "outputs": [],
   "source": [
    "polymer_ising = np.loadtxt(\"final_config_333.txt\")\n",
    "spins = np.loadtxt(\"final_spinconf_333.txt\")"
   ]
  },
  {
   "cell_type": "code",
   "execution_count": 3,
   "id": "comprehensive-sunrise",
   "metadata": {},
   "outputs": [],
   "source": [
    "xcoord = []\n",
    "ycoord = []\n",
    "zcoord = []\n",
    "for i in range(len(polymer_ising)):\n",
    "    xcoord.append(polymer_ising[i][0])\n",
    "    ycoord.append(polymer_ising[i][1])\n",
    "    zcoord.append(polymer_ising[i][2])"
   ]
  },
  {
   "cell_type": "code",
   "execution_count": 6,
   "id": "coordinate-target",
   "metadata": {},
   "outputs": [
    {
     "data": {
      "application/vnd.jupyter.widget-view+json": {
       "model_id": "ab0769a80d2b460299b9d7e09441bc3e",
       "version_major": 2,
       "version_minor": 0
      },
      "text/plain": [
       "Canvas(toolbar=Toolbar(toolitems=[('Home', 'Reset original view', 'home', 'home'), ('Back', 'Back to previous …"
      ]
     },
     "metadata": {},
     "output_type": "display_data"
    }
   ],
   "source": [
    "%matplotlib widget\n",
    "\n",
    "import matplotlib.pyplot as plt\n",
    "from mpl_toolkits.mplot3d import axes3d    \n",
    "fig = plt.figure(figsize=(7,7))\n",
    "ax = fig.add_subplot(111,projection='3d')\n",
    "ax.plot(xcoord, ycoord, zcoord,color='black')\n",
    "ax.scatter(xcoord, ycoord, zcoord, s=30, c=spins,cmap='coolwarm',edgecolors=\"black\")\n",
    "#ax.plot(xcoord_no, ycoord_no, zcoord_no,color='r',marker = 'o',markersize=3,label=\"No Ising\")\n",
    "plt.show()"
   ]
  },
  {
   "cell_type": "code",
   "execution_count": null,
   "id": "prerequisite-frame",
   "metadata": {},
   "outputs": [],
   "source": []
  }
 ],
 "metadata": {
  "kernelspec": {
   "display_name": "Python 3",
   "language": "python",
   "name": "python3"
  },
  "language_info": {
   "codemirror_mode": {
    "name": "ipython",
    "version": 3
   },
   "file_extension": ".py",
   "mimetype": "text/x-python",
   "name": "python",
   "nbconvert_exporter": "python",
   "pygments_lexer": "ipython3",
   "version": "3.8.10"
  }
 },
 "nbformat": 4,
 "nbformat_minor": 5
}
