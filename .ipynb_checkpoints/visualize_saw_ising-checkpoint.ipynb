{
 "cells": [
  {
   "cell_type": "code",
   "execution_count": 20,
   "id": "sonic-designation",
   "metadata": {},
   "outputs": [],
   "source": [
    "import numpy as np"
   ]
  },
  {
   "cell_type": "code",
   "execution_count": 21,
   "id": "negative-apartment",
   "metadata": {},
   "outputs": [],
   "source": [
    "_polymer_ising = np.loadtxt(\"_final_config_600.txt\")\n",
    "_spins = np.loadtxt(\"_final_spinconf_600.txt\")"
   ]
  },
  {
   "cell_type": "code",
   "execution_count": 28,
   "id": "stretch-developer",
   "metadata": {},
   "outputs": [],
   "source": [
    "polymer_ising = np.loadtxt(\"final_config_600.txt\")\n",
    "spins = np.loadtxt(\"final_spinconf_600.txt\")"
   ]
  },
  {
   "cell_type": "code",
   "execution_count": 29,
   "id": "limiting-cigarette",
   "metadata": {},
   "outputs": [
    {
     "data": {
      "text/plain": [
       "(600, 3)"
      ]
     },
     "execution_count": 29,
     "metadata": {},
     "output_type": "execute_result"
    }
   ],
   "source": [
    "polymer_ising.shape"
   ]
  },
  {
   "cell_type": "code",
   "execution_count": 30,
   "id": "sweet-norwegian",
   "metadata": {},
   "outputs": [],
   "source": [
    "_xcoord = []\n",
    "_ycoord = []\n",
    "_zcoord = []\n",
    "for i in range(len(_polymer_ising)):\n",
    "    _xcoord.append(_polymer_ising[i][0])\n",
    "    _ycoord.append(_polymer_ising[i][1])\n",
    "    _zcoord.append(_polymer_ising[i][2])"
   ]
  },
  {
   "cell_type": "code",
   "execution_count": 31,
   "id": "small-witch",
   "metadata": {},
   "outputs": [],
   "source": [
    "xcoord = []\n",
    "ycoord = []\n",
    "zcoord = []\n",
    "for i in range(len(polymer_ising)):\n",
    "    xcoord.append(polymer_ising[i][0])\n",
    "    ycoord.append(polymer_ising[i][1])\n",
    "    zcoord.append(polymer_ising[i][2])"
   ]
  },
  {
   "cell_type": "code",
   "execution_count": 32,
   "id": "immune-footwear",
   "metadata": {},
   "outputs": [
    {
     "data": {
      "application/vnd.jupyter.widget-view+json": {
       "model_id": "0e2244c19c8a4a6abed5c7d5eafeaecd",
       "version_major": 2,
       "version_minor": 0
      },
      "text/plain": [
       "Canvas(toolbar=Toolbar(toolitems=[('Home', 'Reset original view', 'home', 'home'), ('Back', 'Back to previous …"
      ]
     },
     "metadata": {},
     "output_type": "display_data"
    }
   ],
   "source": [
    "%matplotlib widget\n",
    "\n",
    "import matplotlib.pyplot as plt\n",
    "from mpl_toolkits.mplot3d import axes3d    \n",
    "fig = plt.figure(figsize=(7,7))\n",
    "ax = fig.add_subplot(111,projection='3d')\n",
    "ax.plot(xcoord, ycoord, zcoord,color='grey')\n",
    "ax.scatter(xcoord, ycoord, zcoord, s=60, c=spins,cmap='coolwarm',edgecolors=\"grey\")\n",
    "#ax.plot(xcoord_no, ycoord_no, zcoord_no,color='r',marker = 'o',markersize=3,label=\"No Ising\")\n",
    "plt.show()"
   ]
  },
  {
   "cell_type": "code",
   "execution_count": 33,
   "id": "fluid-kinase",
   "metadata": {},
   "outputs": [
    {
     "data": {
      "application/vnd.jupyter.widget-view+json": {
       "model_id": "8b2e400fe06c408eb3c0d04506f98eb3",
       "version_major": 2,
       "version_minor": 0
      },
      "text/plain": [
       "Canvas(toolbar=Toolbar(toolitems=[('Home', 'Reset original view', 'home', 'home'), ('Back', 'Back to previous …"
      ]
     },
     "metadata": {},
     "output_type": "display_data"
    }
   ],
   "source": [
    "%matplotlib widget\n",
    "\n",
    "import matplotlib.pyplot as plt\n",
    "from mpl_toolkits.mplot3d import axes3d    \n",
    "fig = plt.figure(figsize=(7,7))\n",
    "ax = fig.add_subplot(111,projection='3d')\n",
    "ax.plot(_xcoord, _ycoord, _zcoord,color='grey')\n",
    "ax.scatter(_xcoord, _ycoord, _zcoord, s=60, c=_spins,cmap='coolwarm',edgecolors=\"grey\")\n",
    "#ax.plot(xcoord_no, ycoord_no, zcoord_no,color='r',marker = 'o',markersize=3,label=\"No Ising\")\n",
    "plt.show()"
   ]
  },
  {
   "cell_type": "code",
   "execution_count": null,
   "id": "dimensional-commission",
   "metadata": {},
   "outputs": [],
   "source": []
  }
 ],
 "metadata": {
  "kernelspec": {
   "display_name": "Python 3",
   "language": "python",
   "name": "python3"
  },
  "language_info": {
   "codemirror_mode": {
    "name": "ipython",
    "version": 3
   },
   "file_extension": ".py",
   "mimetype": "text/x-python",
   "name": "python",
   "nbconvert_exporter": "python",
   "pygments_lexer": "ipython3",
   "version": "3.8.10"
  }
 },
 "nbformat": 4,
 "nbformat_minor": 5
}
