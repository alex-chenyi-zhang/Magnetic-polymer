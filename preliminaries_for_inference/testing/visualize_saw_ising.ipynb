{
 "cells": [
  {
   "cell_type": "code",
   "execution_count": 9,
   "id": "corporate-ability",
   "metadata": {},
   "outputs": [],
   "source": [
    "import numpy as np"
   ]
  },
  {
   "cell_type": "code",
   "execution_count": 60,
   "id": "social-breed",
   "metadata": {},
   "outputs": [],
   "source": [
    "polymer_ising = np.loadtxt(\"final_config_100.txt\")\n",
    "spins = np.loadtxt(\"final_spinconf_100.txt\")\n",
    "#polymer_ising2 = np.loadtxt(\"final_config_1000_0.300000.txt\")\n",
    "#spins2 = np.loadtxt(\"final_spinconf_1000_0.300000.txt\")"
   ]
  },
  {
   "cell_type": "code",
   "execution_count": 61,
   "id": "constant-bishop",
   "metadata": {},
   "outputs": [
    {
     "data": {
      "text/plain": [
       "array([ 1.,  1.,  1.,  1.,  1.,  1.,  1.,  1.,  1.,  1.,  1.,  1.,  1.,\n",
       "        1.,  1.,  1.,  1.,  1.,  1.,  1.,  1.,  1.,  1.,  1.,  1.,  1.,\n",
       "        1.,  1.,  1.,  1.,  1.,  1.,  1.,  1.,  1.,  1.,  1.,  1.,  1.,\n",
       "        1.,  1.,  1.,  1.,  1.,  1.,  1.,  1.,  1.,  1.,  1., -1., -1.,\n",
       "       -1., -1., -1., -1., -1., -1., -1., -1., -1., -1., -1., -1., -1.,\n",
       "       -1., -1., -1., -1., -1., -1., -1., -1., -1., -1., -1., -1., -1.,\n",
       "       -1., -1., -1., -1., -1., -1., -1., -1., -1., -1., -1., -1., -1.,\n",
       "       -1., -1., -1., -1., -1., -1., -1., -1., -1.])"
      ]
     },
     "execution_count": 61,
     "metadata": {},
     "output_type": "execute_result"
    }
   ],
   "source": [
    "spins"
   ]
  },
  {
   "cell_type": "code",
   "execution_count": 62,
   "id": "quarterly-prompt",
   "metadata": {},
   "outputs": [],
   "source": [
    "xcoord = []\n",
    "ycoord = []\n",
    "zcoord = []\n",
    "for i in range(len(polymer_ising)):\n",
    "    xcoord.append(polymer_ising[i][0])\n",
    "    ycoord.append(polymer_ising[i][1])\n",
    "    zcoord.append(polymer_ising[i][2])"
   ]
  },
  {
   "cell_type": "code",
   "execution_count": 63,
   "id": "broadband-accreditation",
   "metadata": {
    "tags": []
   },
   "outputs": [
    {
     "data": {
      "application/vnd.jupyter.widget-view+json": {
       "model_id": "5c318234da8e423c8dd207afb00b98b9",
       "version_major": 2,
       "version_minor": 0
      },
      "text/plain": [
       "Canvas(toolbar=Toolbar(toolitems=[('Home', 'Reset original view', 'home', 'home'), ('Back', 'Back to previous …"
      ]
     },
     "metadata": {},
     "output_type": "display_data"
    }
   ],
   "source": [
    "%matplotlib widget\n",
    "\n",
    "import matplotlib.pyplot as plt\n",
    "import matplotlib.patheffects as pe\n",
    "from mpl_toolkits.mplot3d import axes3d    \n",
    "fig = plt.figure(figsize=(7,7))\n",
    "ax = fig.add_subplot(111,projection='3d')\n",
    "ax.set_proj_type('ortho')\n",
    "\n",
    "ax.plot(xcoord, ycoord, zcoord,linewidth=2,color = 'dimgray')\n",
    "ax.scatter(xcoord, ycoord, zcoord, s=400, c=spins,cmap='coolwarm',edgecolors=\"grey\",linewidth=0.5)\n",
    "#ax.plot(xcoord_no, ycoord_no, zcoord_no,color='r',marker = 'o',markersize=3,label=\"No Ising\")\n",
    "#ax.plot(xcoord2, ycoord2, zcoord2,linewidth=2,color = 'dimgray')\n",
    "#ax.scatter(xcoord2, ycoord2, zcoord2, s=50, c=spins2,cmap='coolwarm',edgecolors=\"grey\",linewidth=0.5)\n",
    "plt.show()"
   ]
  },
  {
   "cell_type": "code",
   "execution_count": null,
   "id": "departmental-holly",
   "metadata": {},
   "outputs": [],
   "source": []
  },
  {
   "cell_type": "code",
   "execution_count": null,
   "id": "simple-brooklyn",
   "metadata": {},
   "outputs": [],
   "source": []
  }
 ],
 "metadata": {
  "kernelspec": {
   "display_name": "Python 3",
   "language": "python",
   "name": "python3"
  },
  "language_info": {
   "codemirror_mode": {
    "name": "ipython",
    "version": 3
   },
   "file_extension": ".py",
   "mimetype": "text/x-python",
   "name": "python",
   "nbconvert_exporter": "python",
   "pygments_lexer": "ipython3",
   "version": "3.8.10"
  }
 },
 "nbformat": 4,
 "nbformat_minor": 5
}
