{
 "cells": [
  {
   "cell_type": "code",
   "execution_count": 1,
   "id": "early-architect",
   "metadata": {},
   "outputs": [],
   "source": [
    "import numpy as np\n",
    "import matplotlib.pyplot as plt"
   ]
  },
  {
   "cell_type": "code",
   "execution_count": 3,
   "id": "lightweight-sympathy",
   "metadata": {
    "tags": []
   },
   "outputs": [
    {
     "data": {
      "text/plain": [
       "[0.9090909090909091,\n",
       " 0.949999620000152,\n",
       " 0.9947645541515007,\n",
       " 1.0439557571550118,\n",
       " 1.0982662768553562,\n",
       " 1.1585364440809214,\n",
       " 1.2258071633719014,\n",
       " 1.3013699521486268,\n",
       " 1.3868606052537051,\n",
       " 1.4843754638673325,\n",
       " 1.596638118777103,\n",
       " 1.7272738264469805,\n",
       " 1.8811879325556502,\n",
       " 2.0652196361083,\n",
       " 2.2891571781101634,\n",
       " 2.567565485757714]"
      ]
     },
     "execution_count": 3,
     "metadata": {},
     "output_type": "execute_result"
    }
   ],
   "source": [
    "inv_temps = [1.1, 1.052632, 1.005263, 0.957895, 0.910526, 0.863158, 0.815789,  0.768421, 0.721053, 0.673684, 0.626316, 0.578947, 0.531579, 0.48421, 0.436842, 0.389474]\n",
    "temps = []\n",
    "for i in range(len(inv_temps)):\n",
    "    temps.append(1/inv_temps[i])\n",
    "temps"
   ]
  },
  {
   "cell_type": "code",
   "execution_count": 3,
   "id": "technical-protein",
   "metadata": {},
   "outputs": [],
   "source": [
    "rg2_80 = []\n",
    "m_80 = []\n",
    "for i in range(len(temps)):\n",
    "    temp_r = np.loadtxt(\"RG2_80_T_\"+\"{:.6f}\".format(inv_temps[i])+\".txt\")\n",
    "    temp_m = np.loadtxt(\"magnetization_80_T_\"+\"{:.6f}\".format(inv_temps[i])+\".txt\")\n",
    "    rg2_80.append(np.mean(temp_r[100000:]))\n",
    "    m_80.append(np.mean(abs(temp_m[100000:])))\n",
    "    #if (i < 6):\n",
    "    #    rg2_80.append(np.mean(temp_r[1500000:]))\n",
    "    #    m_80.append(np.mean(abs(temp_m[1500000:])))\n",
    "    #else:\n",
    "    #    rg2_80.append(np.mean(temp_r[200000:]))\n",
    "    #    m_80.append(np.mean(abs(temp_m[200000:])))"
   ]
  },
  {
   "cell_type": "code",
   "execution_count": 4,
   "id": "variable-browse",
   "metadata": {
    "tags": []
   },
   "outputs": [],
   "source": [
    "rg2_100 = []\n",
    "m_100 = []\n",
    "for i in range(len(temps)):\n",
    "    temp_r = np.loadtxt(\"RG2_100_T_\"+\"{:.6f}\".format(inv_temps[i])+\".txt\")\n",
    "    temp_m = np.loadtxt(\"magnetization_100_T_\"+\"{:.6f}\".format(inv_temps[i])+\".txt\")\n",
    "    rg2_100.append(np.mean(temp_r[200000:]))\n",
    "    m_100.append(np.mean(abs(temp_m[200000:])))\n",
    "    #if (i < 8):\n",
    "    #    rg2_100.append(np.mean(temp_r[1500000:]))\n",
    "    #    m_100.append(np.mean(abs(temp_m[1500000:])))\n",
    "    #else:\n",
    "    #    rg2_100.append(np.mean(temp_r[200000:]))\n",
    "    #    m_100.append(np.mean(abs(temp_m[200000:])))\n",
    "    "
   ]
  },
  {
   "cell_type": "code",
   "execution_count": 16,
   "id": "indonesian-pharmaceutical",
   "metadata": {},
   "outputs": [],
   "source": [
    "rg2_150 = []\n",
    "m_150 = []\n",
    "for i in range(len(temps)):\n",
    "    temp_r = np.loadtxt(\"RG2_150_T_\"+\"{:.6f}\".format(inv_temps[i])+\".txt\")\n",
    "    temp_m = np.loadtxt(\"magnetization_150_T_\"+\"{:.6f}\".format(inv_temps[i])+\".txt\")\n",
    "    rg2_150.append(np.mean(temp_r[500000:]))\n",
    "    m_150.append(np.mean(abs(temp_m[500000:])))\n",
    "    #if (i < 8):\n",
    "    #    rg2_150.append(np.mean(temp_r[1500000:]))\n",
    "    #    m_150.append(np.mean(abs(temp_m[1500000:])))\n",
    "    #else:\n",
    "    #    rg2_150.append(np.mean(temp_r[200000:]))\n",
    "    #    m_150.append(np.mean(abs(temp_m[200000:])))\n",
    "    "
   ]
  },
  {
   "cell_type": "code",
   "execution_count": 11,
   "id": "hawaiian-february",
   "metadata": {},
   "outputs": [],
   "source": [
    "rg2_200 = []\n",
    "m_200 = []\n",
    "for i in range(len(temps)):\n",
    "    temp_r = np.loadtxt(\"RG2_200_T_\"+\"{:.6f}\".format(inv_temps[i])+\".txt\")\n",
    "    temp_m = np.loadtxt(\"magnetization_200_T_\"+\"{:.6f}\".format(inv_temps[i])+\".txt\")\n",
    "    rg2_200.append(np.mean(temp_r[1000000:]))\n",
    "    m_200.append(np.mean(abs(temp_m[1000000:])))\n",
    "    #if (i < 8):\n",
    "    #    rg2_200.append(np.mean(temp_r[3000000:]))\n",
    "    #    m_200.append(np.mean(abs(temp_m[3000000:])))\n",
    "    #else:\n",
    "    #    rg2_200.append(np.mean(temp_r[1000000:]))\n",
    "    #    m_200.append(np.mean(abs(temp_m[1000000:])))"
   ]
  },
  {
   "cell_type": "code",
   "execution_count": 5,
   "id": "binding-stone",
   "metadata": {},
   "outputs": [],
   "source": [
    "rg2_300 = []\n",
    "m_300 = []\n",
    "for i in range(len(temps)):\n",
    "    temp_r = np.loadtxt(\"RG2_300_T_\"+\"{:.6f}\".format(inv_temps[i])+\".txt\")\n",
    "    temp_m = np.loadtxt(\"magnetization_300_T_\"+\"{:.6f}\".format(inv_temps[i])+\".txt\")\n",
    "    rg2_300.append(np.mean(temp_r[2000000:]))\n",
    "    m_300.append(np.mean(abs(temp_m[2000000:])))\n",
    "    #if (i < 8):\n",
    "    #    rg2_300.append(np.mean(temp_r[3000000:]))\n",
    "    #    m_300.append(np.mean(abs(temp_m[3000000:])))\n",
    "    #else:\n",
    "    #    rg2_300.append(np.mean(temp_r[1000000:]))\n",
    "    #    m_300.append(np.mean(abs(temp_m[1000000:])))"
   ]
  },
  {
   "cell_type": "code",
   "execution_count": 7,
   "id": "superb-large",
   "metadata": {},
   "outputs": [],
   "source": [
    "rg2_400 = []\n",
    "m_400 = []\n",
    "for i in range(len(temps)):\n",
    "    temp_r = np.loadtxt(\"RG2_400_T_\"+\"{:.6f}\".format(inv_temps[i])+\".txt\")\n",
    "    temp_m = np.loadtxt(\"magnetization_400_T_\"+\"{:.6f}\".format(inv_temps[i])+\".txt\")\n",
    "    rg2_400.append(np.mean(temp_r[3000000:]))\n",
    "    m_400.append(np.mean(abs(temp_m[3000000:])))\n",
    "    #if (i < 8):\n",
    "    #    rg2_400.append(np.mean(temp_r[3000000:]))\n",
    "    #    m_400.append(np.mean(abs(temp_m[3000000:])))\n",
    "    #else:\n",
    "    #    rg2_400.append(np.mean(temp_r[200000:]))\n",
    "    #    m_400.append(np.mean(abs(temp_m[200000:])))"
   ]
  },
  {
   "cell_type": "code",
   "execution_count": 37,
   "id": "prepared-morocco",
   "metadata": {
    "collapsed": true,
    "jupyter": {
     "outputs_hidden": true
    },
    "tags": []
   },
   "outputs": [
    {
     "ename": "IndexError",
     "evalue": "list assignment index out of range",
     "output_type": "error",
     "traceback": [
      "\u001b[0;31m---------------------------------------------------------------------------\u001b[0m",
      "\u001b[0;31mIndexError\u001b[0m                                Traceback (most recent call last)",
      "\u001b[0;32m<ipython-input-37-3d7619ea2fac>\u001b[0m in \u001b[0;36m<module>\u001b[0;34m\u001b[0m\n\u001b[0;32m----> 1\u001b[0;31m \u001b[0mrg2_400\u001b[0m\u001b[0;34m[\u001b[0m\u001b[0;36m4\u001b[0m\u001b[0;34m]\u001b[0m \u001b[0;34m=\u001b[0m \u001b[0mnp\u001b[0m\u001b[0;34m.\u001b[0m\u001b[0mmean\u001b[0m\u001b[0;34m(\u001b[0m\u001b[0mtemp_r\u001b[0m\u001b[0;34m[\u001b[0m\u001b[0;36m4000000\u001b[0m\u001b[0;34m:\u001b[0m\u001b[0;34m]\u001b[0m\u001b[0;34m)\u001b[0m\u001b[0;34m\u001b[0m\u001b[0;34m\u001b[0m\u001b[0m\n\u001b[0m\u001b[1;32m      2\u001b[0m \u001b[0mm_400\u001b[0m\u001b[0;34m[\u001b[0m\u001b[0;36m4\u001b[0m\u001b[0;34m]\u001b[0m \u001b[0;34m=\u001b[0m \u001b[0mabs\u001b[0m\u001b[0;34m(\u001b[0m\u001b[0mnp\u001b[0m\u001b[0;34m.\u001b[0m\u001b[0mmean\u001b[0m\u001b[0;34m(\u001b[0m\u001b[0mtemp_m\u001b[0m\u001b[0;34m[\u001b[0m\u001b[0;36m4000000\u001b[0m\u001b[0;34m:\u001b[0m\u001b[0;34m]\u001b[0m\u001b[0;34m)\u001b[0m\u001b[0;34m)\u001b[0m\u001b[0;34m\u001b[0m\u001b[0;34m\u001b[0m\u001b[0m\n",
      "\u001b[0;31mIndexError\u001b[0m: list assignment index out of range"
     ]
    }
   ],
   "source": [
    "rg2_400[4] = np.mean(temp_r[4000000:])\n",
    "m_400[4] = abs(np.mean(temp_m[4000000:]))"
   ]
  },
  {
   "cell_type": "code",
   "execution_count": 5,
   "id": "finite-wrapping",
   "metadata": {},
   "outputs": [
    {
     "data": {
      "image/png": "[encoded data removed]",
      "text/plain": [
       "<Figure size 648x576 with 1 Axes>"
      ]
     },
     "metadata": {
      "needs_background": "light"
     },
     "output_type": "display_data"
    }
   ],
   "source": [
    "plt.figure(figsize=(9,8))\n",
    "#plt.plot(temps, rg2_80, marker='o', label = \"80\")\n",
    "plt.plot(temps, rg2_100, marker ='^', label = \"100\")\n",
    "#plt.plot(temps, rg2_150, marker ='s', label = \"150\")\n",
    "#plt.plot(temps, rg2_200, marker ='P', label = \"200\")\n",
    "#plt.plot(temps, rg2_300, marker ='D', label = \"300\")\n",
    "#plt.plot(temps, rg2_400, marker ='X', label = \"400\")\n",
    "plt.xlabel(\"T\")\n",
    "plt.ylabel(\"Average squared gyration radius\")\n",
    "plt.grid()\n",
    "plt.legend()\n",
    "plt.savefig(\"gyration_radius.png\")\n",
    "plt.show()"
   ]
  },
  {
   "cell_type": "code",
   "execution_count": 6,
   "id": "flying-cookbook",
   "metadata": {},
   "outputs": [
    {
     "data": {
      "image/png": "[encoded data removed]",
      "text/plain": [
       "<Figure size 648x576 with 1 Axes>"
      ]
     },
     "metadata": {
      "needs_background": "light"
     },
     "output_type": "display_data"
    }
   ],
   "source": [
    "plt.figure(figsize=(9,8))\n",
    "#plt.plot(temps[0:], m_80[0:], marker='o', label = \"80\")\n",
    "plt.plot(temps[0:], m_100[0:], marker ='^', label = \"100\")\n",
    "#plt.plot(temps[0:], m_150[0:], marker ='s', label = \"150\")\n",
    "#plt.plot(temps, m_200, marker ='P', label = \"200\")\n",
    "#plt.plot(temps[0:], m_300[0:], marker ='D', label = \"300\")\n",
    "#plt.plot(temps[0:], m_400[0:], marker ='X', label = \"400\")\n",
    "plt.xlabel(\"T\")\n",
    "plt.ylabel(\"Average magnetization per spin\")\n",
    "plt.grid()\n",
    "plt.legend()\n",
    "plt.savefig(\"magnetization.png\")\n",
    "plt.show()"
   ]
  },
  {
   "cell_type": "code",
   "execution_count": null,
   "id": "promotional-confidence",
   "metadata": {},
   "outputs": [],
   "source": []
  }
 ],
 "metadata": {
  "kernelspec": {
   "display_name": "Python 3",
   "language": "python",
   "name": "python3"
  },
  "language_info": {
   "codemirror_mode": {
    "name": "ipython",
    "version": 3
   },
   "file_extension": ".py",
   "mimetype": "text/x-python",
   "name": "python",
   "nbconvert_exporter": "python",
   "pygments_lexer": "ipython3",
   "version": "3.8.10"
  }
 },
 "nbformat": 4,
 "nbformat_minor": 5
}
